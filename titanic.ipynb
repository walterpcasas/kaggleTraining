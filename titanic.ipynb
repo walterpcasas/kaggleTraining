{
 "cells": [
  {
   "cell_type": "code",
   "execution_count": 1,
   "id": "3c3c0bad",
   "metadata": {
    "execution": {
     "iopub.execute_input": "2023-04-09T16:34:30.566849Z",
     "iopub.status.busy": "2023-04-09T16:34:30.566288Z",
     "iopub.status.idle": "2023-04-09T16:34:31.948906Z",
     "shell.execute_reply": "2023-04-09T16:34:31.947794Z"
    },
    "papermill": {
     "duration": 1.393868,
     "end_time": "2023-04-09T16:34:31.951998",
     "exception": false,
     "start_time": "2023-04-09T16:34:30.558130",
     "status": "completed"
    },
    "tags": []
   },
   "outputs": [],
   "source": [
    "import os\n",
    "\n",
    "import numpy as np\n",
    "import pandas as pd\n",
    "import matplotlib.pyplot as plt\n",
    "\n",
    "from sklearn.ensemble import RandomForestClassifier"
   ]
  },
  {
   "cell_type": "code",
   "execution_count": 2,
   "id": "b4d51472",
   "metadata": {
    "execution": {
     "iopub.execute_input": "2023-04-09T16:34:31.963813Z",
     "iopub.status.busy": "2023-04-09T16:34:31.963413Z",
     "iopub.status.idle": "2023-04-09T16:34:31.972660Z",
     "shell.execute_reply": "2023-04-09T16:34:31.971358Z"
    },
    "papermill": {
     "duration": 0.018807,
     "end_time": "2023-04-09T16:34:31.975834",
     "exception": false,
     "start_time": "2023-04-09T16:34:31.957027",
     "status": "completed"
    },
    "tags": []
   },
   "outputs": [
    {
     "name": "stdout",
     "output_type": "stream",
     "text": [
      "/kaggle/input/titanic/train.csv\n",
      "/kaggle/input/titanic/test.csv\n",
      "/kaggle/input/titanic/gender_submission.csv\n"
     ]
    }
   ],
   "source": [
    "for dirname, _, filenames in os.walk('/kaggle/input'):\n",
    "    for filename in filenames:\n",
    "        print(os.path.join(dirname, filename))"
   ]
  },
  {
   "cell_type": "markdown",
   "id": "f7523db9",
   "metadata": {
    "papermill": {
     "duration": 0.004481,
     "end_time": "2023-04-09T16:34:31.985331",
     "exception": false,
     "start_time": "2023-04-09T16:34:31.980850",
     "status": "completed"
    },
    "tags": []
   },
   "source": [
    "# EDA"
   ]
  },
  {
   "cell_type": "code",
   "execution_count": 3,
   "id": "f0c38d32",
   "metadata": {
    "execution": {
     "iopub.execute_input": "2023-04-09T16:34:31.996508Z",
     "iopub.status.busy": "2023-04-09T16:34:31.996102Z",
     "iopub.status.idle": "2023-04-09T16:34:32.040153Z",
     "shell.execute_reply": "2023-04-09T16:34:32.038744Z"
    },
    "papermill": {
     "duration": 0.052849,
     "end_time": "2023-04-09T16:34:32.042736",
     "exception": false,
     "start_time": "2023-04-09T16:34:31.989887",
     "status": "completed"
    },
    "tags": []
   },
   "outputs": [
    {
     "data": {
      "text/html": [
       "<div>\n",
       "<style scoped>\n",
       "    .dataframe tbody tr th:only-of-type {\n",
       "        vertical-align: middle;\n",
       "    }\n",
       "\n",
       "    .dataframe tbody tr th {\n",
       "        vertical-align: top;\n",
       "    }\n",
       "\n",
       "    .dataframe thead th {\n",
       "        text-align: right;\n",
       "    }\n",
       "</style>\n",
       "<table border=\"1\" class=\"dataframe\">\n",
       "  <thead>\n",
       "    <tr style=\"text-align: right;\">\n",
       "      <th></th>\n",
       "      <th>PassengerId</th>\n",
       "      <th>Survived</th>\n",
       "      <th>Pclass</th>\n",
       "      <th>Name</th>\n",
       "      <th>Sex</th>\n",
       "      <th>Age</th>\n",
       "      <th>SibSp</th>\n",
       "      <th>Parch</th>\n",
       "      <th>Ticket</th>\n",
       "      <th>Fare</th>\n",
       "      <th>Cabin</th>\n",
       "      <th>Embarked</th>\n",
       "    </tr>\n",
       "  </thead>\n",
       "  <tbody>\n",
       "    <tr>\n",
       "      <th>0</th>\n",
       "      <td>1</td>\n",
       "      <td>0</td>\n",
       "      <td>3</td>\n",
       "      <td>Braund, Mr. Owen Harris</td>\n",
       "      <td>male</td>\n",
       "      <td>22.0</td>\n",
       "      <td>1</td>\n",
       "      <td>0</td>\n",
       "      <td>A/5 21171</td>\n",
       "      <td>7.2500</td>\n",
       "      <td>NaN</td>\n",
       "      <td>S</td>\n",
       "    </tr>\n",
       "    <tr>\n",
       "      <th>1</th>\n",
       "      <td>2</td>\n",
       "      <td>1</td>\n",
       "      <td>1</td>\n",
       "      <td>Cumings, Mrs. John Bradley (Florence Briggs Th...</td>\n",
       "      <td>female</td>\n",
       "      <td>38.0</td>\n",
       "      <td>1</td>\n",
       "      <td>0</td>\n",
       "      <td>PC 17599</td>\n",
       "      <td>71.2833</td>\n",
       "      <td>C85</td>\n",
       "      <td>C</td>\n",
       "    </tr>\n",
       "    <tr>\n",
       "      <th>2</th>\n",
       "      <td>3</td>\n",
       "      <td>1</td>\n",
       "      <td>3</td>\n",
       "      <td>Heikkinen, Miss. Laina</td>\n",
       "      <td>female</td>\n",
       "      <td>26.0</td>\n",
       "      <td>0</td>\n",
       "      <td>0</td>\n",
       "      <td>STON/O2. 3101282</td>\n",
       "      <td>7.9250</td>\n",
       "      <td>NaN</td>\n",
       "      <td>S</td>\n",
       "    </tr>\n",
       "    <tr>\n",
       "      <th>3</th>\n",
       "      <td>4</td>\n",
       "      <td>1</td>\n",
       "      <td>1</td>\n",
       "      <td>Futrelle, Mrs. Jacques Heath (Lily May Peel)</td>\n",
       "      <td>female</td>\n",
       "      <td>35.0</td>\n",
       "      <td>1</td>\n",
       "      <td>0</td>\n",
       "      <td>113803</td>\n",
       "      <td>53.1000</td>\n",
       "      <td>C123</td>\n",
       "      <td>S</td>\n",
       "    </tr>\n",
       "    <tr>\n",
       "      <th>4</th>\n",
       "      <td>5</td>\n",
       "      <td>0</td>\n",
       "      <td>3</td>\n",
       "      <td>Allen, Mr. William Henry</td>\n",
       "      <td>male</td>\n",
       "      <td>35.0</td>\n",
       "      <td>0</td>\n",
       "      <td>0</td>\n",
       "      <td>373450</td>\n",
       "      <td>8.0500</td>\n",
       "      <td>NaN</td>\n",
       "      <td>S</td>\n",
       "    </tr>\n",
       "  </tbody>\n",
       "</table>\n",
       "</div>"
      ],
      "text/plain": [
       "   PassengerId  Survived  Pclass  \\\n",
       "0            1         0       3   \n",
       "1            2         1       1   \n",
       "2            3         1       3   \n",
       "3            4         1       1   \n",
       "4            5         0       3   \n",
       "\n",
       "                                                Name     Sex   Age  SibSp  \\\n",
       "0                            Braund, Mr. Owen Harris    male  22.0      1   \n",
       "1  Cumings, Mrs. John Bradley (Florence Briggs Th...  female  38.0      1   \n",
       "2                             Heikkinen, Miss. Laina  female  26.0      0   \n",
       "3       Futrelle, Mrs. Jacques Heath (Lily May Peel)  female  35.0      1   \n",
       "4                           Allen, Mr. William Henry    male  35.0      0   \n",
       "\n",
       "   Parch            Ticket     Fare Cabin Embarked  \n",
       "0      0         A/5 21171   7.2500   NaN        S  \n",
       "1      0          PC 17599  71.2833   C85        C  \n",
       "2      0  STON/O2. 3101282   7.9250   NaN        S  \n",
       "3      0            113803  53.1000  C123        S  \n",
       "4      0            373450   8.0500   NaN        S  "
      ]
     },
     "execution_count": 3,
     "metadata": {},
     "output_type": "execute_result"
    }
   ],
   "source": [
    "train_data = pd.read_csv('/kaggle/input/titanic/train.csv')\n",
    "train_data.head()"
   ]
  },
  {
   "cell_type": "code",
   "execution_count": 4,
   "id": "7c859113",
   "metadata": {
    "execution": {
     "iopub.execute_input": "2023-04-09T16:34:32.055658Z",
     "iopub.status.busy": "2023-04-09T16:34:32.054439Z",
     "iopub.status.idle": "2023-04-09T16:34:32.079647Z",
     "shell.execute_reply": "2023-04-09T16:34:32.078474Z"
    },
    "papermill": {
     "duration": 0.034228,
     "end_time": "2023-04-09T16:34:32.082169",
     "exception": false,
     "start_time": "2023-04-09T16:34:32.047941",
     "status": "completed"
    },
    "tags": []
   },
   "outputs": [
    {
     "data": {
      "text/html": [
       "<div>\n",
       "<style scoped>\n",
       "    .dataframe tbody tr th:only-of-type {\n",
       "        vertical-align: middle;\n",
       "    }\n",
       "\n",
       "    .dataframe tbody tr th {\n",
       "        vertical-align: top;\n",
       "    }\n",
       "\n",
       "    .dataframe thead th {\n",
       "        text-align: right;\n",
       "    }\n",
       "</style>\n",
       "<table border=\"1\" class=\"dataframe\">\n",
       "  <thead>\n",
       "    <tr style=\"text-align: right;\">\n",
       "      <th></th>\n",
       "      <th>PassengerId</th>\n",
       "      <th>Pclass</th>\n",
       "      <th>Name</th>\n",
       "      <th>Sex</th>\n",
       "      <th>Age</th>\n",
       "      <th>SibSp</th>\n",
       "      <th>Parch</th>\n",
       "      <th>Ticket</th>\n",
       "      <th>Fare</th>\n",
       "      <th>Cabin</th>\n",
       "      <th>Embarked</th>\n",
       "    </tr>\n",
       "  </thead>\n",
       "  <tbody>\n",
       "    <tr>\n",
       "      <th>0</th>\n",
       "      <td>892</td>\n",
       "      <td>3</td>\n",
       "      <td>Kelly, Mr. James</td>\n",
       "      <td>male</td>\n",
       "      <td>34.5</td>\n",
       "      <td>0</td>\n",
       "      <td>0</td>\n",
       "      <td>330911</td>\n",
       "      <td>7.8292</td>\n",
       "      <td>NaN</td>\n",
       "      <td>Q</td>\n",
       "    </tr>\n",
       "    <tr>\n",
       "      <th>1</th>\n",
       "      <td>893</td>\n",
       "      <td>3</td>\n",
       "      <td>Wilkes, Mrs. James (Ellen Needs)</td>\n",
       "      <td>female</td>\n",
       "      <td>47.0</td>\n",
       "      <td>1</td>\n",
       "      <td>0</td>\n",
       "      <td>363272</td>\n",
       "      <td>7.0000</td>\n",
       "      <td>NaN</td>\n",
       "      <td>S</td>\n",
       "    </tr>\n",
       "    <tr>\n",
       "      <th>2</th>\n",
       "      <td>894</td>\n",
       "      <td>2</td>\n",
       "      <td>Myles, Mr. Thomas Francis</td>\n",
       "      <td>male</td>\n",
       "      <td>62.0</td>\n",
       "      <td>0</td>\n",
       "      <td>0</td>\n",
       "      <td>240276</td>\n",
       "      <td>9.6875</td>\n",
       "      <td>NaN</td>\n",
       "      <td>Q</td>\n",
       "    </tr>\n",
       "    <tr>\n",
       "      <th>3</th>\n",
       "      <td>895</td>\n",
       "      <td>3</td>\n",
       "      <td>Wirz, Mr. Albert</td>\n",
       "      <td>male</td>\n",
       "      <td>27.0</td>\n",
       "      <td>0</td>\n",
       "      <td>0</td>\n",
       "      <td>315154</td>\n",
       "      <td>8.6625</td>\n",
       "      <td>NaN</td>\n",
       "      <td>S</td>\n",
       "    </tr>\n",
       "    <tr>\n",
       "      <th>4</th>\n",
       "      <td>896</td>\n",
       "      <td>3</td>\n",
       "      <td>Hirvonen, Mrs. Alexander (Helga E Lindqvist)</td>\n",
       "      <td>female</td>\n",
       "      <td>22.0</td>\n",
       "      <td>1</td>\n",
       "      <td>1</td>\n",
       "      <td>3101298</td>\n",
       "      <td>12.2875</td>\n",
       "      <td>NaN</td>\n",
       "      <td>S</td>\n",
       "    </tr>\n",
       "  </tbody>\n",
       "</table>\n",
       "</div>"
      ],
      "text/plain": [
       "   PassengerId  Pclass                                          Name     Sex  \\\n",
       "0          892       3                              Kelly, Mr. James    male   \n",
       "1          893       3              Wilkes, Mrs. James (Ellen Needs)  female   \n",
       "2          894       2                     Myles, Mr. Thomas Francis    male   \n",
       "3          895       3                              Wirz, Mr. Albert    male   \n",
       "4          896       3  Hirvonen, Mrs. Alexander (Helga E Lindqvist)  female   \n",
       "\n",
       "    Age  SibSp  Parch   Ticket     Fare Cabin Embarked  \n",
       "0  34.5      0      0   330911   7.8292   NaN        Q  \n",
       "1  47.0      1      0   363272   7.0000   NaN        S  \n",
       "2  62.0      0      0   240276   9.6875   NaN        Q  \n",
       "3  27.0      0      0   315154   8.6625   NaN        S  \n",
       "4  22.0      1      1  3101298  12.2875   NaN        S  "
      ]
     },
     "execution_count": 4,
     "metadata": {},
     "output_type": "execute_result"
    }
   ],
   "source": [
    "test_data = pd.read_csv('/kaggle/input/titanic/test.csv')\n",
    "test_data.head()"
   ]
  },
  {
   "cell_type": "markdown",
   "id": "a8944717",
   "metadata": {
    "papermill": {
     "duration": 0.005106,
     "end_time": "2023-04-09T16:34:32.092928",
     "exception": false,
     "start_time": "2023-04-09T16:34:32.087822",
     "status": "completed"
    },
    "tags": []
   },
   "source": [
    "We select the male or female, and if that survived or not, that is represented by 1 or 0, therefore we can add and get the rate of survivors by gender."
   ]
  },
  {
   "cell_type": "code",
   "execution_count": 5,
   "id": "3ba2ddc0",
   "metadata": {
    "execution": {
     "iopub.execute_input": "2023-04-09T16:34:32.105731Z",
     "iopub.status.busy": "2023-04-09T16:34:32.104835Z",
     "iopub.status.idle": "2023-04-09T16:34:32.118978Z",
     "shell.execute_reply": "2023-04-09T16:34:32.117732Z"
    },
    "papermill": {
     "duration": 0.023219,
     "end_time": "2023-04-09T16:34:32.121481",
     "exception": false,
     "start_time": "2023-04-09T16:34:32.098262",
     "status": "completed"
    },
    "tags": []
   },
   "outputs": [
    {
     "data": {
      "text/plain": [
       "1      1\n",
       "2      1\n",
       "3      1\n",
       "8      1\n",
       "9      1\n",
       "      ..\n",
       "880    1\n",
       "882    0\n",
       "885    0\n",
       "887    1\n",
       "888    0\n",
       "Name: Survived, Length: 314, dtype: int64"
      ]
     },
     "execution_count": 5,
     "metadata": {},
     "output_type": "execute_result"
    }
   ],
   "source": [
    "female_survivors = train_data.loc[train_data.Sex == 'female']['Survived']\n",
    "female_survivors"
   ]
  },
  {
   "cell_type": "code",
   "execution_count": 6,
   "id": "cc0306ff",
   "metadata": {
    "execution": {
     "iopub.execute_input": "2023-04-09T16:34:32.134040Z",
     "iopub.status.busy": "2023-04-09T16:34:32.133646Z",
     "iopub.status.idle": "2023-04-09T16:34:32.139528Z",
     "shell.execute_reply": "2023-04-09T16:34:32.138737Z"
    },
    "papermill": {
     "duration": 0.014654,
     "end_time": "2023-04-09T16:34:32.141532",
     "exception": false,
     "start_time": "2023-04-09T16:34:32.126878",
     "status": "completed"
    },
    "tags": []
   },
   "outputs": [
    {
     "data": {
      "text/plain": [
       "0.7420382165605095"
      ]
     },
     "execution_count": 6,
     "metadata": {},
     "output_type": "execute_result"
    }
   ],
   "source": [
    "rate_female_survivors = sum(female_survivors)/len(female_survivors)\n",
    "rate_female_survivors"
   ]
  },
  {
   "cell_type": "code",
   "execution_count": 7,
   "id": "892f06d5",
   "metadata": {
    "execution": {
     "iopub.execute_input": "2023-04-09T16:34:32.154666Z",
     "iopub.status.busy": "2023-04-09T16:34:32.153709Z",
     "iopub.status.idle": "2023-04-09T16:34:32.163379Z",
     "shell.execute_reply": "2023-04-09T16:34:32.162204Z"
    },
    "papermill": {
     "duration": 0.018574,
     "end_time": "2023-04-09T16:34:32.165586",
     "exception": false,
     "start_time": "2023-04-09T16:34:32.147012",
     "status": "completed"
    },
    "tags": []
   },
   "outputs": [
    {
     "data": {
      "text/plain": [
       "0.18890814558058924"
      ]
     },
     "execution_count": 7,
     "metadata": {},
     "output_type": "execute_result"
    }
   ],
   "source": [
    "male_survivors = train_data.loc[train_data.Sex == 'male']['Survived']\n",
    "rate_male_survivors = sum(male_survivors)/len(male_survivors)\n",
    "rate_male_survivors"
   ]
  },
  {
   "cell_type": "markdown",
   "id": "8150314f",
   "metadata": {
    "papermill": {
     "duration": 0.005266,
     "end_time": "2023-04-09T16:34:32.176447",
     "exception": false,
     "start_time": "2023-04-09T16:34:32.171181",
     "status": "completed"
    },
    "tags": []
   },
   "source": [
    "# Preprocessing"
   ]
  },
  {
   "cell_type": "markdown",
   "id": "4fa45ba4",
   "metadata": {
    "papermill": {
     "duration": 0.005168,
     "end_time": "2023-04-09T16:34:32.187028",
     "exception": false,
     "start_time": "2023-04-09T16:34:32.181860",
     "status": "completed"
    },
    "tags": []
   },
   "source": [
    "Getting the target, I separate it from the others variables."
   ]
  },
  {
   "cell_type": "code",
   "execution_count": 8,
   "id": "8fbd2eeb",
   "metadata": {
    "execution": {
     "iopub.execute_input": "2023-04-09T16:34:32.200027Z",
     "iopub.status.busy": "2023-04-09T16:34:32.199601Z",
     "iopub.status.idle": "2023-04-09T16:34:32.205363Z",
     "shell.execute_reply": "2023-04-09T16:34:32.204148Z"
    },
    "papermill": {
     "duration": 0.01523,
     "end_time": "2023-04-09T16:34:32.207798",
     "exception": false,
     "start_time": "2023-04-09T16:34:32.192568",
     "status": "completed"
    },
    "tags": []
   },
   "outputs": [],
   "source": [
    "y = train_data['Survived']"
   ]
  },
  {
   "cell_type": "code",
   "execution_count": 9,
   "id": "32cb8511",
   "metadata": {
    "execution": {
     "iopub.execute_input": "2023-04-09T16:34:32.220983Z",
     "iopub.status.busy": "2023-04-09T16:34:32.220068Z",
     "iopub.status.idle": "2023-04-09T16:34:32.241976Z",
     "shell.execute_reply": "2023-04-09T16:34:32.240800Z"
    },
    "papermill": {
     "duration": 0.031255,
     "end_time": "2023-04-09T16:34:32.244547",
     "exception": false,
     "start_time": "2023-04-09T16:34:32.213292",
     "status": "completed"
    },
    "tags": []
   },
   "outputs": [],
   "source": [
    "features = ['Pclass', 'Sex', 'SibSp', 'Parch']\n",
    "\n",
    "# get_dummies: It obtains True or False in columns for any value in each feature from dataframe\n",
    "X = pd.get_dummies(train_data[features])\n",
    "\n",
    "# Apply the same to the test data\n",
    "X_test = pd.get_dummies(test_data[features])"
   ]
  },
  {
   "cell_type": "markdown",
   "id": "8a903502",
   "metadata": {
    "papermill": {
     "duration": 0.006385,
     "end_time": "2023-04-09T16:34:32.256708",
     "exception": false,
     "start_time": "2023-04-09T16:34:32.250323",
     "status": "completed"
    },
    "tags": []
   },
   "source": [
    "# Train model"
   ]
  },
  {
   "cell_type": "code",
   "execution_count": 10,
   "id": "0ae55267",
   "metadata": {
    "execution": {
     "iopub.execute_input": "2023-04-09T16:34:32.269640Z",
     "iopub.status.busy": "2023-04-09T16:34:32.269218Z",
     "iopub.status.idle": "2023-04-09T16:34:32.444985Z",
     "shell.execute_reply": "2023-04-09T16:34:32.443668Z"
    },
    "papermill": {
     "duration": 0.185845,
     "end_time": "2023-04-09T16:34:32.448072",
     "exception": false,
     "start_time": "2023-04-09T16:34:32.262227",
     "status": "completed"
    },
    "tags": []
   },
   "outputs": [
    {
     "data": {
      "text/plain": [
       "RandomForestClassifier(max_depth=5, random_state=19)"
      ]
     },
     "execution_count": 10,
     "metadata": {},
     "output_type": "execute_result"
    }
   ],
   "source": [
    "model = RandomForestClassifier(n_estimators=100, max_depth=5, random_state=19)\n",
    "model.fit(X, y)"
   ]
  },
  {
   "cell_type": "markdown",
   "id": "03fb3f4c",
   "metadata": {
    "papermill": {
     "duration": 0.005898,
     "end_time": "2023-04-09T16:34:32.459804",
     "exception": false,
     "start_time": "2023-04-09T16:34:32.453906",
     "status": "completed"
    },
    "tags": []
   },
   "source": [
    "# Predict"
   ]
  },
  {
   "cell_type": "code",
   "execution_count": 11,
   "id": "66e3ba9d",
   "metadata": {
    "execution": {
     "iopub.execute_input": "2023-04-09T16:34:32.474533Z",
     "iopub.status.busy": "2023-04-09T16:34:32.474097Z",
     "iopub.status.idle": "2023-04-09T16:34:32.501000Z",
     "shell.execute_reply": "2023-04-09T16:34:32.499680Z"
    },
    "papermill": {
     "duration": 0.037799,
     "end_time": "2023-04-09T16:34:32.503943",
     "exception": false,
     "start_time": "2023-04-09T16:34:32.466144",
     "status": "completed"
    },
    "tags": []
   },
   "outputs": [],
   "source": [
    "predictions = model.predict(X_test)"
   ]
  },
  {
   "cell_type": "code",
   "execution_count": 12,
   "id": "6c440f31",
   "metadata": {
    "execution": {
     "iopub.execute_input": "2023-04-09T16:34:32.518850Z",
     "iopub.status.busy": "2023-04-09T16:34:32.518268Z",
     "iopub.status.idle": "2023-04-09T16:34:32.530562Z",
     "shell.execute_reply": "2023-04-09T16:34:32.529243Z"
    },
    "papermill": {
     "duration": 0.023206,
     "end_time": "2023-04-09T16:34:32.533286",
     "exception": false,
     "start_time": "2023-04-09T16:34:32.510080",
     "status": "completed"
    },
    "tags": []
   },
   "outputs": [
    {
     "data": {
      "text/html": [
       "<div>\n",
       "<style scoped>\n",
       "    .dataframe tbody tr th:only-of-type {\n",
       "        vertical-align: middle;\n",
       "    }\n",
       "\n",
       "    .dataframe tbody tr th {\n",
       "        vertical-align: top;\n",
       "    }\n",
       "\n",
       "    .dataframe thead th {\n",
       "        text-align: right;\n",
       "    }\n",
       "</style>\n",
       "<table border=\"1\" class=\"dataframe\">\n",
       "  <thead>\n",
       "    <tr style=\"text-align: right;\">\n",
       "      <th></th>\n",
       "      <th>PassengerId</th>\n",
       "      <th>Survived</th>\n",
       "    </tr>\n",
       "  </thead>\n",
       "  <tbody>\n",
       "    <tr>\n",
       "      <th>0</th>\n",
       "      <td>892</td>\n",
       "      <td>0</td>\n",
       "    </tr>\n",
       "    <tr>\n",
       "      <th>1</th>\n",
       "      <td>893</td>\n",
       "      <td>1</td>\n",
       "    </tr>\n",
       "    <tr>\n",
       "      <th>2</th>\n",
       "      <td>894</td>\n",
       "      <td>0</td>\n",
       "    </tr>\n",
       "    <tr>\n",
       "      <th>3</th>\n",
       "      <td>895</td>\n",
       "      <td>0</td>\n",
       "    </tr>\n",
       "    <tr>\n",
       "      <th>4</th>\n",
       "      <td>896</td>\n",
       "      <td>1</td>\n",
       "    </tr>\n",
       "  </tbody>\n",
       "</table>\n",
       "</div>"
      ],
      "text/plain": [
       "   PassengerId  Survived\n",
       "0          892         0\n",
       "1          893         1\n",
       "2          894         0\n",
       "3          895         0\n",
       "4          896         1"
      ]
     },
     "execution_count": 12,
     "metadata": {},
     "output_type": "execute_result"
    }
   ],
   "source": [
    "output = pd.DataFrame({'PassengerId': test_data.PassengerId,\n",
    "                       'Survived': predictions})\n",
    "output.head()"
   ]
  },
  {
   "cell_type": "code",
   "execution_count": 13,
   "id": "1a8b4bb3",
   "metadata": {
    "execution": {
     "iopub.execute_input": "2023-04-09T16:34:32.547568Z",
     "iopub.status.busy": "2023-04-09T16:34:32.546817Z",
     "iopub.status.idle": "2023-04-09T16:34:32.557948Z",
     "shell.execute_reply": "2023-04-09T16:34:32.556855Z"
    },
    "papermill": {
     "duration": 0.021013,
     "end_time": "2023-04-09T16:34:32.560536",
     "exception": false,
     "start_time": "2023-04-09T16:34:32.539523",
     "status": "completed"
    },
    "tags": []
   },
   "outputs": [],
   "source": [
    "output.to_csv('submission.csv', index=False)"
   ]
  }
 ],
 "metadata": {
  "kernelspec": {
   "display_name": "Python 3",
   "language": "python",
   "name": "python3"
  },
  "language_info": {
   "codemirror_mode": {
    "name": "ipython",
    "version": 3
   },
   "file_extension": ".py",
   "mimetype": "text/x-python",
   "name": "python",
   "nbconvert_exporter": "python",
   "pygments_lexer": "ipython3",
   "version": "3.7.12"
  },
  "papermill": {
   "default_parameters": {},
   "duration": 12.767704,
   "end_time": "2023-04-09T16:34:33.288491",
   "environment_variables": {},
   "exception": null,
   "input_path": "__notebook__.ipynb",
   "output_path": "__notebook__.ipynb",
   "parameters": {},
   "start_time": "2023-04-09T16:34:20.520787",
   "version": "2.4.0"
  }
 },
 "nbformat": 4,
 "nbformat_minor": 5
}
